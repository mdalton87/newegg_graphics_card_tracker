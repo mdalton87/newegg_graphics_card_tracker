{
 "cells": [
  {
   "cell_type": "code",
   "execution_count": 2,
   "metadata": {},
   "outputs": [],
   "source": [
    "import requests\n",
    "import bs4\n",
    "import os\n",
    "import re\n",
    "import unicodedata\n",
    "import pandas as pd\n",
    "import nltk\n",
    "import numpy as np"
   ]
  },
  {
   "cell_type": "code",
   "execution_count": 3,
   "metadata": {},
   "outputs": [],
   "source": [
    "url = \"https://www.ebay.com/sch/i.html?_from=R40&_nkw=rtx+3060&_sacat=175673&rt=nc&Chipset%252FGPU%2520Model=NVIDIA%2520GeForce%2520RTX%25203060%2520Ti%7CNVIDIA%2520GeForce%2520RTX%25203060&_dcat=27386&_ipg=200\"\n",
    "response = requests.get(url)\n",
    "html = response.text\n",
    "soup = bs4.BeautifulSoup(html)"
   ]
  },
  {
   "cell_type": "code",
   "execution_count": 4,
   "metadata": {},
   "outputs": [
    {
     "data": {
      "text/plain": [
       "<Response [200]>"
      ]
     },
     "execution_count": 4,
     "metadata": {},
     "output_type": "execute_result"
    }
   ],
   "source": [
    "response"
   ]
  },
  {
   "cell_type": "code",
   "execution_count": 5,
   "metadata": {},
   "outputs": [
    {
     "data": {
      "text/plain": [
       "215"
      ]
     },
     "execution_count": 5,
     "metadata": {},
     "output_type": "execute_result"
    }
   ],
   "source": [
    "items = soup.find_all('div', {'class': 's-item__info clearfix'})\n",
    "\n",
    "len(items)"
   ]
  },
  {
   "cell_type": "code",
   "execution_count": 6,
   "metadata": {},
   "outputs": [
    {
     "data": {
      "text/plain": [
       "'ASUS DUAL GeForce RTX 3060 OC Edition 12GB GDDR6 Graphics Card - SHIPS ASAP!'"
      ]
     },
     "execution_count": 6,
     "metadata": {},
     "output_type": "execute_result"
    }
   ],
   "source": [
    "items[8].find('h3', {'class': \"s-item__title\"}).text"
   ]
  },
  {
   "cell_type": "code",
   "execution_count": 7,
   "metadata": {},
   "outputs": [
    {
     "data": {
      "text/plain": [
       "'Brand New'"
      ]
     },
     "execution_count": 7,
     "metadata": {},
     "output_type": "execute_result"
    }
   ],
   "source": [
    "items[8].find('span', {'class': 'SECONDARY_INFO'}).text"
   ]
  },
  {
   "cell_type": "code",
   "execution_count": 8,
   "metadata": {},
   "outputs": [
    {
     "data": {
      "text/plain": [
       "'$665.00'"
      ]
     },
     "execution_count": 8,
     "metadata": {},
     "output_type": "execute_result"
    }
   ],
   "source": [
    "items[8].find('span', {'class': 's-item__price'}).text"
   ]
  },
  {
   "cell_type": "code",
   "execution_count": 12,
   "metadata": {},
   "outputs": [
    {
     "data": {
      "text/plain": [
       "<span class=\"s-item__bids s-item__bidCount\">18 bids</span>"
      ]
     },
     "execution_count": 12,
     "metadata": {},
     "output_type": "execute_result"
    }
   ],
   "source": [
    "soup.find('span', {'class': 's-item__bids s-item__bidCount'})"
   ]
  },
  {
   "cell_type": "code",
   "execution_count": 13,
   "metadata": {},
   "outputs": [
    {
     "data": {
      "text/plain": [
       "'7h 8m left'"
      ]
     },
     "execution_count": 13,
     "metadata": {},
     "output_type": "execute_result"
    }
   ],
   "source": [
    "soup.find('span', {'class': 's-item__time-left',}).text"
   ]
  },
  {
   "cell_type": "code",
   "execution_count": 14,
   "metadata": {},
   "outputs": [
    {
     "data": {
      "text/plain": [
       "'+$13.00 shipping'"
      ]
     },
     "execution_count": 14,
     "metadata": {},
     "output_type": "execute_result"
    }
   ],
   "source": [
    "soup.find('span', {'class': 's-item__shipping s-item__logisticsCost'}).text"
   ]
  },
  {
   "cell_type": "code",
   "execution_count": 68,
   "metadata": {},
   "outputs": [
    {
     "data": {
      "text/plain": [
       "<a _sp=\"p2351460.m1686.l7400\" class=\"s-item__link\" data-track='{\"eventFamily\":\"LST\",\"eventAction\":\"ACTN\",\"actionKind\":\"NAVSRC\",\"actionKinds\":[\"NAVSRC\"],\"operationId\":\"2351460\",\"flushImmediately\":false,\"eventProperty\":{\"parentrq\":\"0146a72917c0a646564daa19fff77b12\",\"pageci\":\"eb67377d-19c3-11ec-ae0a-7eb2ae959ad0\",\"moduledtl\":\"mi:1686|iid:8|li:7400|luid:1|scen:Listings\"}}' href=\"https://www.ebay.com/itm/174942638168?epid=15045116685&amp;hash=item28bb64d058:g:y8wAAOSwZrthQ7Kg\"><h3 class=\"s-item__title\">ASUS DUAL GeForce RTX 3060 OC Edition 12GB GDDR6 Graphics Card - SHIPS ASAP!</h3></a>"
      ]
     },
     "execution_count": 68,
     "metadata": {},
     "output_type": "execute_result"
    }
   ],
   "source": [
    "items[8].find('a', {'_sp': 'p2351460.m1686.l7400'})"
   ]
  },
  {
   "cell_type": "code",
   "execution_count": 97,
   "metadata": {},
   "outputs": [
    {
     "data": {
      "text/plain": [
       "'1,242'"
      ]
     },
     "execution_count": 97,
     "metadata": {},
     "output_type": "execute_result"
    }
   ],
   "source": [
    "regex = r'(\\d*\\,\\d+)'\n",
    "subject = soup.find('h1', {'class': 'srp-controls__count-heading'}).text\n",
    "\n",
    "str_num = re.findall(regex, subject)[0]\n",
    "str_num"
   ]
  },
  {
   "cell_type": "code",
   "execution_count": 98,
   "metadata": {},
   "outputs": [
    {
     "data": {
      "text/plain": [
       "1242"
      ]
     },
     "execution_count": 98,
     "metadata": {},
     "output_type": "execute_result"
    }
   ],
   "source": [
    "string = ''\n",
    "for x in re.findall(regex, subject)[0]:\n",
    "    if str.isdigit(x) == True:\n",
    "        string = string + x       \n",
    "int(string)"
   ]
  },
  {
   "cell_type": "code",
   "execution_count": 104,
   "metadata": {},
   "outputs": [
    {
     "data": {
      "text/plain": [
       "7"
      ]
     },
     "execution_count": 104,
     "metadata": {},
     "output_type": "execute_result"
    }
   ],
   "source": [
    "num_pages_ebay = int(string) // 200 + 1\n",
    "num_pages_ebay"
   ]
  },
  {
   "cell_type": "code",
   "execution_count": 105,
   "metadata": {},
   "outputs": [],
   "source": [
    "def find_num_pages_ebay(url):\n",
    "    response = requests.get(url)\n",
    "    html = response.text\n",
    "    soup = bs4.BeautifulSoup(html)\n",
    "    \n",
    "    regex = r'(\\d*\\,\\d+)'\n",
    "    subject = soup.find('h1', {'class': 'srp-controls__count-heading'}).text\n",
    "\n",
    "    string = ''\n",
    "    for x in re.findall(regex, subject)[0]:\n",
    "        if str.isdigit(x) == True:\n",
    "            string = string + x  \n",
    "            \n",
    "    num_pages_ebay = int(string) // 200 + 1\n",
    "    return num_pages_ebay"
   ]
  },
  {
   "cell_type": "code",
   "execution_count": 107,
   "metadata": {},
   "outputs": [
    {
     "data": {
      "text/plain": [
       "'https://www.ebay.com/sch/i.html?_from=R40&_nkw=rtx+3060&_sacat=175673&rt=nc&Chipset%252FGPU%2520Model=NVIDIA%2520GeForce%2520RTX%25203060%2520Ti%7CNVIDIA%2520GeForce%2520RTX%25203060&_dcat=27386&_ipg=200'"
      ]
     },
     "execution_count": 107,
     "metadata": {},
     "output_type": "execute_result"
    }
   ],
   "source": [
    "\"https://www.ebay.com/sch/i.html?_from=R40&_nkw=rtx+3060&_sacat=175673&rt=nc&Chipset%252FGPU%2520Model=NVIDIA%2520GeForce%2520RTX%25203060%2520Ti%7CNVIDIA%2520GeForce%2520RTX%25203060&_dcat=27386&_ipg=200\"\n"
   ]
  },
  {
   "cell_type": "code",
   "execution_count": 109,
   "metadata": {},
   "outputs": [
    {
     "data": {
      "text/plain": [
       "'https://www.ebay.com/sch/i.html?_from=R40&_nkw=rtx+3060&_sacat=175673&rt=nc&Chipset%252FGPU%2520Model=NVIDIA%2520GeForce%2520RTX%25203060%2520Ti%7CNVIDIA%2520GeForce%2520RTX%25203060&_dcat=27386&_ipg=200&_pgn=2'"
      ]
     },
     "execution_count": 109,
     "metadata": {},
     "output_type": "execute_result"
    }
   ],
   "source": [
    "'https://www.ebay.com/sch/i.html?_from=R40&_nkw=rtx+3060&_sacat=175673&rt=nc&Chipset%252FGPU%2520Model=NVIDIA%2520GeForce%2520RTX%25203060%2520Ti%7CNVIDIA%2520GeForce%2520RTX%25203060&_dcat=27386&_ipg=200&_pgn=2'"
   ]
  },
  {
   "cell_type": "code",
   "execution_count": 112,
   "metadata": {},
   "outputs": [],
   "source": [
    "urls = [('https://www.ebay.com/sch/i.html?_from=R40&_nkw=rtx+3060&_sacat=175673&rt=nc&Chipset%252FGPU%2520Model=NVIDIA%2520GeForce%2520RTX%25203060%2520Ti%7CNVIDIA%2520GeForce%2520RTX%25203060&_dcat=27386&_ipg=200&_pgn=' + str(x)) for x in list(range(1,find_num_pages_ebay(url)+1))]"
   ]
  },
  {
   "cell_type": "code",
   "execution_count": 113,
   "metadata": {},
   "outputs": [
    {
     "data": {
      "text/plain": [
       "['https://www.ebay.com/sch/i.html?_from=R40&_nkw=rtx+3060&_sacat=175673&rt=nc&Chipset%252FGPU%2520Model=NVIDIA%2520GeForce%2520RTX%25203060%2520Ti%7CNVIDIA%2520GeForce%2520RTX%25203060&_dcat=27386&_ipg=200&_pgn=1',\n",
       " 'https://www.ebay.com/sch/i.html?_from=R40&_nkw=rtx+3060&_sacat=175673&rt=nc&Chipset%252FGPU%2520Model=NVIDIA%2520GeForce%2520RTX%25203060%2520Ti%7CNVIDIA%2520GeForce%2520RTX%25203060&_dcat=27386&_ipg=200&_pgn=2',\n",
       " 'https://www.ebay.com/sch/i.html?_from=R40&_nkw=rtx+3060&_sacat=175673&rt=nc&Chipset%252FGPU%2520Model=NVIDIA%2520GeForce%2520RTX%25203060%2520Ti%7CNVIDIA%2520GeForce%2520RTX%25203060&_dcat=27386&_ipg=200&_pgn=3',\n",
       " 'https://www.ebay.com/sch/i.html?_from=R40&_nkw=rtx+3060&_sacat=175673&rt=nc&Chipset%252FGPU%2520Model=NVIDIA%2520GeForce%2520RTX%25203060%2520Ti%7CNVIDIA%2520GeForce%2520RTX%25203060&_dcat=27386&_ipg=200&_pgn=4',\n",
       " 'https://www.ebay.com/sch/i.html?_from=R40&_nkw=rtx+3060&_sacat=175673&rt=nc&Chipset%252FGPU%2520Model=NVIDIA%2520GeForce%2520RTX%25203060%2520Ti%7CNVIDIA%2520GeForce%2520RTX%25203060&_dcat=27386&_ipg=200&_pgn=5',\n",
       " 'https://www.ebay.com/sch/i.html?_from=R40&_nkw=rtx+3060&_sacat=175673&rt=nc&Chipset%252FGPU%2520Model=NVIDIA%2520GeForce%2520RTX%25203060%2520Ti%7CNVIDIA%2520GeForce%2520RTX%25203060&_dcat=27386&_ipg=200&_pgn=6',\n",
       " 'https://www.ebay.com/sch/i.html?_from=R40&_nkw=rtx+3060&_sacat=175673&rt=nc&Chipset%252FGPU%2520Model=NVIDIA%2520GeForce%2520RTX%25203060%2520Ti%7CNVIDIA%2520GeForce%2520RTX%25203060&_dcat=27386&_ipg=200&_pgn=7']"
      ]
     },
     "execution_count": 113,
     "metadata": {},
     "output_type": "execute_result"
    }
   ],
   "source": [
    "urls"
   ]
  },
  {
   "cell_type": "code",
   "execution_count": 77,
   "metadata": {
    "scrolled": true
   },
   "outputs": [
    {
     "data": {
      "text/plain": [
       "'https://www.ebay.com/itm/294407231814?epid=2315640392&hash=item448c09d946:g:6N8AAOSw~ahhOJ9G'"
      ]
     },
     "execution_count": 77,
     "metadata": {},
     "output_type": "execute_result"
    }
   ],
   "source": [
    "links = ''\n",
    "for link in items[12].find_all('a', {'_sp': 'p2351460.m1686.l7400'}):\n",
    "    if link.has_attr('href'):\n",
    "        links = link.attrs['href']\n",
    "\n",
    "links"
   ]
  },
  {
   "cell_type": "code",
   "execution_count": 120,
   "metadata": {},
   "outputs": [],
   "source": [
    "    \n",
    "def get_gpu_ebay(urls):\n",
    "    \n",
    "    rows = []\n",
    "    \n",
    "    for url in urls:\n",
    "\n",
    "        response = requests.get(url)\n",
    "        html = response.text\n",
    "        soup = bs4.BeautifulSoup(html, features=\"lxml\")\n",
    "\n",
    "        items = soup.find_all('div', {'class': 's-item__info clearfix'})\n",
    "\n",
    "        for item in items:\n",
    "\n",
    "            title = item.find('h3', {'class': \"s-item__title\"}).text\n",
    "            condition = item.find('span', {'class': 'SECONDARY_INFO'})\n",
    "            current_price = item.find('span', {'class': 's-item__price'})\n",
    "            total_bids = item.find('span', {'class': 's-item__bids s-item__bidCount'})\n",
    "            bidding_time_left = item.find('span', {'class': 's-item__time-left',})\n",
    "            shipping_cost = item.find('span', {'class': 's-item__shipping s-item__logisticsCost'})\n",
    "\n",
    "            if condition is None:\n",
    "                condition = np.nan\n",
    "            else:\n",
    "                condition = condition.text\n",
    "\n",
    "            if current_price is None:\n",
    "                current_price = np.nan\n",
    "            else:\n",
    "                current_price = current_price.text\n",
    "\n",
    "            if total_bids is None:\n",
    "                total_bids = np.nan\n",
    "            else:\n",
    "                total_bids = total_bids.text\n",
    "\n",
    "            if bidding_time_left is None:\n",
    "                bidding_time_left = np.nan\n",
    "            else:\n",
    "                bidding_time_left = bidding_time_left.text\n",
    "\n",
    "            if shipping_cost is None:\n",
    "                shipping_cost = np.nan\n",
    "            else:\n",
    "                shipping_cost = shipping_cost.text\n",
    "\n",
    "            link = ''\n",
    "            for x in item.find_all('a', {'_sp': 'p2351460.m1686.l7400'}):\n",
    "                if x.has_attr('href'):\n",
    "                    link = x.attrs['href']\n",
    "\n",
    "\n",
    "            row = []\n",
    "            row.append(title)\n",
    "            row.append(condition)\n",
    "            row.append(current_price)\n",
    "            row.append(total_bids)\n",
    "            row.append(bidding_time_left)\n",
    "            row.append(shipping_cost)\n",
    "            row.append(link)\n",
    "            rows.append(row)\n",
    "\n",
    "        df = pd.DataFrame(columns=['title', 'condition', 'current_price', 'total_bids', 'bidding_time_left', 'shipping_cost', 'url'], data = rows)\n",
    "\n",
    "    return df\n"
   ]
  },
  {
   "cell_type": "code",
   "execution_count": 122,
   "metadata": {},
   "outputs": [],
   "source": [
    "df = get_gpu_ebay(urls)"
   ]
  },
  {
   "cell_type": "code",
   "execution_count": 123,
   "metadata": {},
   "outputs": [
    {
     "data": {
      "text/html": [
       "<div>\n",
       "<style scoped>\n",
       "    .dataframe tbody tr th:only-of-type {\n",
       "        vertical-align: middle;\n",
       "    }\n",
       "\n",
       "    .dataframe tbody tr th {\n",
       "        vertical-align: top;\n",
       "    }\n",
       "\n",
       "    .dataframe thead th {\n",
       "        text-align: right;\n",
       "    }\n",
       "</style>\n",
       "<table border=\"1\" class=\"dataframe\">\n",
       "  <thead>\n",
       "    <tr style=\"text-align: right;\">\n",
       "      <th></th>\n",
       "      <th>title</th>\n",
       "      <th>condition</th>\n",
       "      <th>current_price</th>\n",
       "      <th>total_bids</th>\n",
       "      <th>bidding_time_left</th>\n",
       "      <th>shipping_cost</th>\n",
       "      <th>url</th>\n",
       "    </tr>\n",
       "  </thead>\n",
       "  <tbody>\n",
       "    <tr>\n",
       "      <th>0</th>\n",
       "      <td></td>\n",
       "      <td>NaN</td>\n",
       "      <td>NaN</td>\n",
       "      <td>NaN</td>\n",
       "      <td>NaN</td>\n",
       "      <td>NaN</td>\n",
       "      <td>https://www.ebay.com/itm/01920391?epid=2603981...</td>\n",
       "    </tr>\n",
       "    <tr>\n",
       "      <th>1</th>\n",
       "      <td>New Listing✔️IN HAND✔️ *2 DAY SHIP* EVGA NVIDI...</td>\n",
       "      <td>Brand New</td>\n",
       "      <td>$745.00</td>\n",
       "      <td>NaN</td>\n",
       "      <td>NaN</td>\n",
       "      <td>NaN</td>\n",
       "      <td>https://www.ebay.com/itm/194377227919?epid=231...</td>\n",
       "    </tr>\n",
       "    <tr>\n",
       "      <th>2</th>\n",
       "      <td>EVGA GeForce RTX 3060 XC GAMING 12GB GDDR6 Gra...</td>\n",
       "      <td>Brand New</td>\n",
       "      <td>$689.99</td>\n",
       "      <td>NaN</td>\n",
       "      <td>NaN</td>\n",
       "      <td>+$13.00 shipping</td>\n",
       "      <td>https://www.ebay.com/itm/403167161872?epid=231...</td>\n",
       "    </tr>\n",
       "    <tr>\n",
       "      <th>3</th>\n",
       "      <td>ASUS Dual GeForce RTX 3060 Ti OC Graphics Card...</td>\n",
       "      <td>Brand New</td>\n",
       "      <td>$849.99</td>\n",
       "      <td>NaN</td>\n",
       "      <td>NaN</td>\n",
       "      <td>NaN</td>\n",
       "      <td>https://www.ebay.com/itm/353680513967?epid=280...</td>\n",
       "    </tr>\n",
       "    <tr>\n",
       "      <th>4</th>\n",
       "      <td>ZOTAC Gaming GeForce RTX 3060 Twin Edge OC 12G...</td>\n",
       "      <td>Brand New</td>\n",
       "      <td>$729.99</td>\n",
       "      <td>NaN</td>\n",
       "      <td>NaN</td>\n",
       "      <td>NaN</td>\n",
       "      <td>https://www.ebay.com/itm/393581933710?_trkparm...</td>\n",
       "    </tr>\n",
       "    <tr>\n",
       "      <th>...</th>\n",
       "      <td>...</td>\n",
       "      <td>...</td>\n",
       "      <td>...</td>\n",
       "      <td>...</td>\n",
       "      <td>...</td>\n",
       "      <td>...</td>\n",
       "      <td>...</td>\n",
       "    </tr>\n",
       "    <tr>\n",
       "      <th>842</th>\n",
       "      <td>EVGA GeForce RTX 3060 Ti XC GAMING 8GB GDDR6 (...</td>\n",
       "      <td>Brand New</td>\n",
       "      <td>$650.00</td>\n",
       "      <td>0 bids</td>\n",
       "      <td>1d 21h left</td>\n",
       "      <td>+$16.33 shipping</td>\n",
       "      <td>https://www.ebay.com/itm/185054976785?epid=704...</td>\n",
       "    </tr>\n",
       "    <tr>\n",
       "      <th>843</th>\n",
       "      <td>MSI GeForce RTX 3060 Ti VENTUS 2X OC 8GB GDDR6...</td>\n",
       "      <td>Open Box</td>\n",
       "      <td>$850.00</td>\n",
       "      <td>0 bids</td>\n",
       "      <td>3d 20h left</td>\n",
       "      <td>+$8.25 shipping</td>\n",
       "      <td>https://www.ebay.com/itm/114994825323?epid=240...</td>\n",
       "    </tr>\n",
       "    <tr>\n",
       "      <th>844</th>\n",
       "      <td>EVGA GeForce RTX 3060 XC GAMING 12GB GDDR6 Gra...</td>\n",
       "      <td>Brand New</td>\n",
       "      <td>$798.69</td>\n",
       "      <td>NaN</td>\n",
       "      <td>NaN</td>\n",
       "      <td>NaN</td>\n",
       "      <td>https://www.ebay.com/itm/384385034558?epid=231...</td>\n",
       "    </tr>\n",
       "    <tr>\n",
       "      <th>845</th>\n",
       "      <td>ZOTAC GAMING RTX 3060 Ti OC EDITION TWIN EDGE ...</td>\n",
       "      <td>Brand New</td>\n",
       "      <td>$899.99</td>\n",
       "      <td>NaN</td>\n",
       "      <td>NaN</td>\n",
       "      <td>NaN</td>\n",
       "      <td>https://www.ebay.com/itm/224601250948?epid=160...</td>\n",
       "    </tr>\n",
       "    <tr>\n",
       "      <th>846</th>\n",
       "      <td>ASUS Dual GeForce RTX 3060 Ti OC Graphics Card...</td>\n",
       "      <td>Brand New</td>\n",
       "      <td>$1,149.99</td>\n",
       "      <td>NaN</td>\n",
       "      <td>NaN</td>\n",
       "      <td>NaN</td>\n",
       "      <td>https://www.ebay.com/itm/224595191655?epid=280...</td>\n",
       "    </tr>\n",
       "  </tbody>\n",
       "</table>\n",
       "<p>847 rows × 7 columns</p>\n",
       "</div>"
      ],
      "text/plain": [
       "                                                 title  condition  \\\n",
       "0                                                             NaN   \n",
       "1    New Listing✔️IN HAND✔️ *2 DAY SHIP* EVGA NVIDI...  Brand New   \n",
       "2    EVGA GeForce RTX 3060 XC GAMING 12GB GDDR6 Gra...  Brand New   \n",
       "3    ASUS Dual GeForce RTX 3060 Ti OC Graphics Card...  Brand New   \n",
       "4    ZOTAC Gaming GeForce RTX 3060 Twin Edge OC 12G...  Brand New   \n",
       "..                                                 ...        ...   \n",
       "842  EVGA GeForce RTX 3060 Ti XC GAMING 8GB GDDR6 (...  Brand New   \n",
       "843  MSI GeForce RTX 3060 Ti VENTUS 2X OC 8GB GDDR6...   Open Box   \n",
       "844  EVGA GeForce RTX 3060 XC GAMING 12GB GDDR6 Gra...  Brand New   \n",
       "845  ZOTAC GAMING RTX 3060 Ti OC EDITION TWIN EDGE ...  Brand New   \n",
       "846  ASUS Dual GeForce RTX 3060 Ti OC Graphics Card...  Brand New   \n",
       "\n",
       "    current_price total_bids bidding_time_left     shipping_cost  \\\n",
       "0             NaN        NaN               NaN               NaN   \n",
       "1         $745.00        NaN               NaN               NaN   \n",
       "2         $689.99        NaN               NaN  +$13.00 shipping   \n",
       "3         $849.99        NaN               NaN               NaN   \n",
       "4         $729.99        NaN               NaN               NaN   \n",
       "..            ...        ...               ...               ...   \n",
       "842       $650.00     0 bids       1d 21h left  +$16.33 shipping   \n",
       "843       $850.00     0 bids       3d 20h left   +$8.25 shipping   \n",
       "844       $798.69        NaN               NaN               NaN   \n",
       "845       $899.99        NaN               NaN               NaN   \n",
       "846     $1,149.99        NaN               NaN               NaN   \n",
       "\n",
       "                                                   url  \n",
       "0    https://www.ebay.com/itm/01920391?epid=2603981...  \n",
       "1    https://www.ebay.com/itm/194377227919?epid=231...  \n",
       "2    https://www.ebay.com/itm/403167161872?epid=231...  \n",
       "3    https://www.ebay.com/itm/353680513967?epid=280...  \n",
       "4    https://www.ebay.com/itm/393581933710?_trkparm...  \n",
       "..                                                 ...  \n",
       "842  https://www.ebay.com/itm/185054976785?epid=704...  \n",
       "843  https://www.ebay.com/itm/114994825323?epid=240...  \n",
       "844  https://www.ebay.com/itm/384385034558?epid=231...  \n",
       "845  https://www.ebay.com/itm/224601250948?epid=160...  \n",
       "846  https://www.ebay.com/itm/224595191655?epid=280...  \n",
       "\n",
       "[847 rows x 7 columns]"
      ]
     },
     "execution_count": 123,
     "metadata": {},
     "output_type": "execute_result"
    }
   ],
   "source": [
    "df"
   ]
  },
  {
   "cell_type": "code",
   "execution_count": null,
   "metadata": {},
   "outputs": [],
   "source": [
    "def clean_ebay_gpu(df):\n",
    "    df = df.drop(index=0)\n",
    "    df.current_price = df.current_price.str.replace('$', '').str.replace(',', '').astype(float)\n",
    "    df.shipping_cost = df.shipping_cost.str.replace('+', '').str.replace('$', '').str.replace(' shipping', '').str.replace('Free', '0').astype(float)\n",
    "    df.title = df.title.str.replace('New Listing', '').str.replace('IN HAND', '').str.replace('✔️', '').str.replace(' \\*2 DAY SHIP\\* ','')\n",
    "    df.sort_values('current_price').reset_index()"
   ]
  },
  {
   "cell_type": "code",
   "execution_count": 169,
   "metadata": {},
   "outputs": [
    {
     "data": {
      "text/plain": [
       "count     843.000000\n",
       "mean      792.329324\n",
       "std       332.703905\n",
       "min        13.500000\n",
       "25%       699.620000\n",
       "50%       740.000000\n",
       "75%       849.000000\n",
       "max      8599.990000\n",
       "Name: current_price, dtype: float64"
      ]
     },
     "execution_count": 169,
     "metadata": {},
     "output_type": "execute_result"
    }
   ],
   "source": [
    "df.current_price.describe()"
   ]
  },
  {
   "cell_type": "code",
   "execution_count": 189,
   "metadata": {},
   "outputs": [],
   "source": [
    "df = df.sort_values('current_price')"
   ]
  },
  {
   "cell_type": "code",
   "execution_count": 191,
   "metadata": {},
   "outputs": [
    {
     "data": {
      "text/plain": [
       "title                -6 BUNDLE- Nvidia Geforce RTX 3060 Ti 8GB GDDR...\n",
       "condition                                                    Brand New\n",
       "current_price                                                  8599.99\n",
       "total_bids                                                         NaN\n",
       "bidding_time_left                                                  NaN\n",
       "shipping_cost                                                   179.99\n",
       "url                  https://www.ebay.com/itm/265291039144?hash=ite...\n",
       "Name: 65, dtype: object"
      ]
     },
     "execution_count": 191,
     "metadata": {},
     "output_type": "execute_result"
    }
   ],
   "source": [
    "df.iloc[842]"
   ]
  },
  {
   "cell_type": "code",
   "execution_count": null,
   "metadata": {},
   "outputs": [],
   "source": []
  }
 ],
 "metadata": {
  "kernelspec": {
   "display_name": "Python 3",
   "language": "python",
   "name": "python3"
  },
  "language_info": {
   "codemirror_mode": {
    "name": "ipython",
    "version": 3
   },
   "file_extension": ".py",
   "mimetype": "text/x-python",
   "name": "python",
   "nbconvert_exporter": "python",
   "pygments_lexer": "ipython3",
   "version": "3.8.5"
  }
 },
 "nbformat": 4,
 "nbformat_minor": 4
}
