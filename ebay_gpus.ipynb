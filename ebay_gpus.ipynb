{
 "cells": [
  {
   "cell_type": "code",
   "execution_count": 1,
   "metadata": {},
   "outputs": [],
   "source": [
    "import requests\n",
    "import bs4\n",
    "import os\n",
    "import re\n",
    "import unicodedata\n",
    "import pandas as pd\n",
    "import nltk\n",
    "import numpy as np"
   ]
  },
  {
   "cell_type": "code",
   "execution_count": 2,
   "metadata": {},
   "outputs": [],
   "source": [
    "url = \"https://www.ebay.com/sch/i.html?_from=R40&_nkw=rtx+3060&_sacat=175673&rt=nc&Chipset%252FGPU%2520Model=NVIDIA%2520GeForce%2520RTX%25203060%2520Ti%7CNVIDIA%2520GeForce%2520RTX%25203060&_dcat=27386&_ipg=200\"\n",
    "response = requests.get(url)\n",
    "html = response.text\n",
    "soup = bs4.BeautifulSoup(html)"
   ]
  },
  {
   "cell_type": "code",
   "execution_count": 3,
   "metadata": {},
   "outputs": [
    {
     "data": {
      "text/plain": [
       "<Response [200]>"
      ]
     },
     "execution_count": 3,
     "metadata": {},
     "output_type": "execute_result"
    }
   ],
   "source": [
    "response"
   ]
  },
  {
   "cell_type": "code",
   "execution_count": 4,
   "metadata": {},
   "outputs": [
    {
     "data": {
      "text/plain": [
       "211"
      ]
     },
     "execution_count": 4,
     "metadata": {},
     "output_type": "execute_result"
    }
   ],
   "source": [
    "items = soup.find_all('div', {'class': 's-item__info clearfix'})\n",
    "\n",
    "len(items)"
   ]
  },
  {
   "cell_type": "code",
   "execution_count": 5,
   "metadata": {},
   "outputs": [
    {
     "data": {
      "text/plain": [
       "'New ListingEVGA GeForce RTX 3060 XC GAMING 12GB GDDR6 Graphics Card (12G-P5-3657-KR)'"
      ]
     },
     "execution_count": 5,
     "metadata": {},
     "output_type": "execute_result"
    }
   ],
   "source": [
    "items[8].find('h3', {'class': \"s-item__title\"}).text"
   ]
  },
  {
   "cell_type": "code",
   "execution_count": 6,
   "metadata": {},
   "outputs": [
    {
     "data": {
      "text/plain": [
       "'Brand New'"
      ]
     },
     "execution_count": 6,
     "metadata": {},
     "output_type": "execute_result"
    }
   ],
   "source": [
    "items[8].find('span', {'class': 'SECONDARY_INFO'}).text"
   ]
  },
  {
   "cell_type": "code",
   "execution_count": 7,
   "metadata": {},
   "outputs": [
    {
     "data": {
      "text/plain": [
       "'$640.00'"
      ]
     },
     "execution_count": 7,
     "metadata": {},
     "output_type": "execute_result"
    }
   ],
   "source": [
    "items[8].find('span', {'class': 's-item__price'}).text"
   ]
  },
  {
   "cell_type": "code",
   "execution_count": 8,
   "metadata": {},
   "outputs": [
    {
     "data": {
      "text/plain": [
       "'17 bids'"
      ]
     },
     "execution_count": 8,
     "metadata": {},
     "output_type": "execute_result"
    }
   ],
   "source": [
    "items[8].find('span', {'class': 's-item__bids s-item__bidCount'}).text"
   ]
  },
  {
   "cell_type": "code",
   "execution_count": 9,
   "metadata": {},
   "outputs": [
    {
     "data": {
      "text/plain": [
       "'10h 32m left'"
      ]
     },
     "execution_count": 9,
     "metadata": {},
     "output_type": "execute_result"
    }
   ],
   "source": [
    "items[8].find('span', {'class': 's-item__time-left',}).text"
   ]
  },
  {
   "cell_type": "code",
   "execution_count": 10,
   "metadata": {},
   "outputs": [
    {
     "data": {
      "text/plain": [
       "'+$14.20 shipping'"
      ]
     },
     "execution_count": 10,
     "metadata": {},
     "output_type": "execute_result"
    }
   ],
   "source": [
    "items[8].find('span', {'class': 's-item__shipping s-item__logisticsCost'}).text"
   ]
  },
  {
   "cell_type": "code",
   "execution_count": 21,
   "metadata": {},
   "outputs": [
    {
     "data": {
      "text/html": [
       "<div>\n",
       "<style scoped>\n",
       "    .dataframe tbody tr th:only-of-type {\n",
       "        vertical-align: middle;\n",
       "    }\n",
       "\n",
       "    .dataframe tbody tr th {\n",
       "        vertical-align: top;\n",
       "    }\n",
       "\n",
       "    .dataframe thead th {\n",
       "        text-align: right;\n",
       "    }\n",
       "</style>\n",
       "<table border=\"1\" class=\"dataframe\">\n",
       "  <thead>\n",
       "    <tr style=\"text-align: right;\">\n",
       "      <th></th>\n",
       "      <th>title</th>\n",
       "      <th>condition</th>\n",
       "      <th>current_price</th>\n",
       "      <th>total_bids</th>\n",
       "      <th>bidding_time_left</th>\n",
       "      <th>shipping_cost</th>\n",
       "    </tr>\n",
       "  </thead>\n",
       "  <tbody>\n",
       "    <tr>\n",
       "      <th>0</th>\n",
       "      <td></td>\n",
       "      <td>NaN</td>\n",
       "      <td>NaN</td>\n",
       "      <td>NaN</td>\n",
       "      <td>NaN</td>\n",
       "      <td>NaN</td>\n",
       "    </tr>\n",
       "    <tr>\n",
       "      <th>1</th>\n",
       "      <td>EVGA GeForce RTX 3060 XC GAMING 12GB GDDR6 Gra...</td>\n",
       "      <td>Brand New</td>\n",
       "      <td>$710.00</td>\n",
       "      <td>5 bids</td>\n",
       "      <td>5m left</td>\n",
       "      <td>+$17.20 shipping</td>\n",
       "    </tr>\n",
       "    <tr>\n",
       "      <th>2</th>\n",
       "      <td>EVGA GeForce RTX 3060 XC GAMING 12GB GDDR6 Gra...</td>\n",
       "      <td>Brand New</td>\n",
       "      <td>$689.99</td>\n",
       "      <td>NaN</td>\n",
       "      <td>NaN</td>\n",
       "      <td>+$13.00 shipping</td>\n",
       "    </tr>\n",
       "    <tr>\n",
       "      <th>3</th>\n",
       "      <td>NEW EVGA GeForce RTX 3060 XC GAMING 12GB GDDR6...</td>\n",
       "      <td>Brand New</td>\n",
       "      <td>$719.99</td>\n",
       "      <td>NaN</td>\n",
       "      <td>NaN</td>\n",
       "      <td>NaN</td>\n",
       "    </tr>\n",
       "    <tr>\n",
       "      <th>4</th>\n",
       "      <td>ASUS DUAL GeForce RTX 3060 OC Edition 12GB GDD...</td>\n",
       "      <td>Brand New</td>\n",
       "      <td>$665.00</td>\n",
       "      <td>NaN</td>\n",
       "      <td>NaN</td>\n",
       "      <td>+$13.50 shipping</td>\n",
       "    </tr>\n",
       "    <tr>\n",
       "      <th>...</th>\n",
       "      <td>...</td>\n",
       "      <td>...</td>\n",
       "      <td>...</td>\n",
       "      <td>...</td>\n",
       "      <td>...</td>\n",
       "      <td>...</td>\n",
       "    </tr>\n",
       "    <tr>\n",
       "      <th>206</th>\n",
       "      <td>ZOTAC Gaming GeForce RTX 3060 Twin Edge OC 12G...</td>\n",
       "      <td>Brand New</td>\n",
       "      <td>$695.99</td>\n",
       "      <td>NaN</td>\n",
       "      <td>NaN</td>\n",
       "      <td>Free shipping</td>\n",
       "    </tr>\n",
       "    <tr>\n",
       "      <th>207</th>\n",
       "      <td>EVGA GeForce RTX 3060 XC GAMING 12GB GDDR6 Gra...</td>\n",
       "      <td>Brand New</td>\n",
       "      <td>$740.00</td>\n",
       "      <td>NaN</td>\n",
       "      <td>NaN</td>\n",
       "      <td>Free shipping</td>\n",
       "    </tr>\n",
       "    <tr>\n",
       "      <th>208</th>\n",
       "      <td>EVGA GeForce RTX 3060 XC3 Gaming 12GB GDDR6 Gr...</td>\n",
       "      <td>Brand New</td>\n",
       "      <td>$699.00</td>\n",
       "      <td>NaN</td>\n",
       "      <td>NaN</td>\n",
       "      <td>+$24.99 shipping</td>\n",
       "    </tr>\n",
       "    <tr>\n",
       "      <th>209</th>\n",
       "      <td>EVGA GeForce RTX 3060 XC GAMING 12GB Graphics ...</td>\n",
       "      <td>Brand New</td>\n",
       "      <td>$739.99</td>\n",
       "      <td>NaN</td>\n",
       "      <td>NaN</td>\n",
       "      <td>Free shipping</td>\n",
       "    </tr>\n",
       "    <tr>\n",
       "      <th>210</th>\n",
       "      <td>ZOTAC GeForce RTX 3060 Ti Twin Edge OC 8GB GDD...</td>\n",
       "      <td>Brand New</td>\n",
       "      <td>$839.99</td>\n",
       "      <td>NaN</td>\n",
       "      <td>NaN</td>\n",
       "      <td>NaN</td>\n",
       "    </tr>\n",
       "  </tbody>\n",
       "</table>\n",
       "<p>211 rows × 6 columns</p>\n",
       "</div>"
      ],
      "text/plain": [
       "                                                 title  condition  \\\n",
       "0                                                             NaN   \n",
       "1    EVGA GeForce RTX 3060 XC GAMING 12GB GDDR6 Gra...  Brand New   \n",
       "2    EVGA GeForce RTX 3060 XC GAMING 12GB GDDR6 Gra...  Brand New   \n",
       "3    NEW EVGA GeForce RTX 3060 XC GAMING 12GB GDDR6...  Brand New   \n",
       "4    ASUS DUAL GeForce RTX 3060 OC Edition 12GB GDD...  Brand New   \n",
       "..                                                 ...        ...   \n",
       "206  ZOTAC Gaming GeForce RTX 3060 Twin Edge OC 12G...  Brand New   \n",
       "207  EVGA GeForce RTX 3060 XC GAMING 12GB GDDR6 Gra...  Brand New   \n",
       "208  EVGA GeForce RTX 3060 XC3 Gaming 12GB GDDR6 Gr...  Brand New   \n",
       "209  EVGA GeForce RTX 3060 XC GAMING 12GB Graphics ...  Brand New   \n",
       "210  ZOTAC GeForce RTX 3060 Ti Twin Edge OC 8GB GDD...  Brand New   \n",
       "\n",
       "    current_price total_bids bidding_time_left     shipping_cost  \n",
       "0             NaN        NaN               NaN               NaN  \n",
       "1         $710.00     5 bids           5m left  +$17.20 shipping  \n",
       "2         $689.99        NaN               NaN  +$13.00 shipping  \n",
       "3         $719.99        NaN               NaN               NaN  \n",
       "4         $665.00        NaN               NaN  +$13.50 shipping  \n",
       "..            ...        ...               ...               ...  \n",
       "206       $695.99        NaN               NaN     Free shipping  \n",
       "207       $740.00        NaN               NaN     Free shipping  \n",
       "208       $699.00        NaN               NaN  +$24.99 shipping  \n",
       "209       $739.99        NaN               NaN     Free shipping  \n",
       "210       $839.99        NaN               NaN               NaN  \n",
       "\n",
       "[211 rows x 6 columns]"
      ]
     },
     "execution_count": 21,
     "metadata": {},
     "output_type": "execute_result"
    }
   ],
   "source": [
    "rows = []\n",
    "\n",
    "for item in items:\n",
    "    \n",
    "    title = item.find('h3', {'class': \"s-item__title\"}).text\n",
    "    condition = item.find('span', {'class': 'SECONDARY_INFO'})\n",
    "    current_price = item.find('span', {'class': 's-item__price'})\n",
    "    total_bids = item.find('span', {'class': 's-item__bids s-item__bidCount'})\n",
    "    bidding_time_left = item.find('span', {'class': 's-item__time-left',})\n",
    "    shipping_cost = item.find('span', {'class': 's-item__shipping s-item__logisticsCost'})\n",
    "    \n",
    "    if condition is None:\n",
    "        condition = np.nan\n",
    "    else:\n",
    "        condition = condition.text\n",
    "        \n",
    "    if current_price is None:\n",
    "        current_price = np.nan\n",
    "    else:\n",
    "        current_price = current_price.text\n",
    "\n",
    "    if total_bids is None:\n",
    "        total_bids = np.nan\n",
    "    else:\n",
    "        total_bids = total_bids.text\n",
    "        \n",
    "    if bidding_time_left is None:\n",
    "        bidding_time_left = np.nan\n",
    "    else:\n",
    "        bidding_time_left = bidding_time_left.text\n",
    "        \n",
    "    if shipping_cost is None:\n",
    "        shipping_cost = np.nan\n",
    "    else:\n",
    "        shipping_cost = shipping_cost.text\n",
    "        \n",
    "    row = []\n",
    "    row.append(title)\n",
    "    row.append(condition)\n",
    "    row.append(current_price)\n",
    "    row.append(total_bids)\n",
    "    row.append(bidding_time_left)\n",
    "    row.append(shipping_cost)\n",
    "    rows.append(row)\n",
    "    \n",
    "df = pd.DataFrame(columns=['title', 'condition', 'current_price', 'total_bids', 'bidding_time_left', 'shipping_cost'], data = rows)\n",
    "\n",
    "df\n"
   ]
  },
  {
   "cell_type": "code",
   "execution_count": null,
   "metadata": {},
   "outputs": [],
   "source": []
  },
  {
   "cell_type": "code",
   "execution_count": 68,
   "metadata": {},
   "outputs": [],
   "source": [
    "regex = r'(\\d*)\\,(\\d+)'\n",
    "subject = soup.find('h1', {'class': 'srp-controls__count-heading'}).text\n",
    "\n",
    "str_num = re.findall(regex, subject)"
   ]
  },
  {
   "cell_type": "code",
   "execution_count": 75,
   "metadata": {},
   "outputs": [
    {
     "data": {
      "text/plain": [
       "[('1', '265')]"
      ]
     },
     "execution_count": 75,
     "metadata": {},
     "output_type": "execute_result"
    }
   ],
   "source": [
    "str_num\n"
   ]
  },
  {
   "cell_type": "code",
   "execution_count": null,
   "metadata": {},
   "outputs": [],
   "source": []
  }
 ],
 "metadata": {
  "kernelspec": {
   "display_name": "Python 3",
   "language": "python",
   "name": "python3"
  },
  "language_info": {
   "codemirror_mode": {
    "name": "ipython",
    "version": 3
   },
   "file_extension": ".py",
   "mimetype": "text/x-python",
   "name": "python",
   "nbconvert_exporter": "python",
   "pygments_lexer": "ipython3",
   "version": "3.8.5"
  }
 },
 "nbformat": 4,
 "nbformat_minor": 4
}
